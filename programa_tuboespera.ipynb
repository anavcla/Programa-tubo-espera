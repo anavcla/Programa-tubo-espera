{
  "nbformat": 4,
  "nbformat_minor": 0,
  "metadata": {
    "colab": {
      "name": "programa_tuboespera.ipynb",
      "provenance": [],
      "collapsed_sections": []
    },
    "kernelspec": {
      "name": "python3",
      "display_name": "Python 3"
    },
    "language_info": {
      "name": "python"
    }
  },
  "cells": [
    {
      "cell_type": "code",
      "execution_count": null,
      "metadata": {
        "id": "ls4ZYHkRzL5Y"
      },
      "outputs": [],
      "source": [
        "import numpy as np\n",
        "A = float(input('A= '))\n",
        "β = float(input('β= '))\n",
        "T = float(input('T= '))\n",
        "k = A*np.exp(β*T)\n",
        "print('k= ',k)\n",
        "N = float(input('N= '))\n",
        "N0 = float(input('N0= '))\n",
        "U = float(input('U= '))\n",
        "θ = np.log(N0/N)/k\n",
        "θ_s = θ*60\n",
        "print('θ=',θ_s,'segundos')\n",
        "L = θ_s*U\n",
        "print('L= ',L,'metros')\n"
      ]
    }
  ]
}